{
 "cells": [
  {
   "cell_type": "code",
   "execution_count": 1,
   "metadata": {},
   "outputs": [],
   "source": [
    "import pickle\n",
    "import random \n",
    "import matplotlib.pyplot as plt\n",
    "import numpy as np\n",
    "import pandas as pd\n",
    "from sklearn.utils import shuffle\n",
    "import tensorflow as tf\n",
    "from scipy.misc import imread, imsave, imresize\n",
    "import warnings\n",
    "from skimage import exposure"
   ]
  },
  {
   "cell_type": "markdown",
   "metadata": {},
   "source": [
    "# Self-Driving Car Engineer Nanodegree\n",
    "\n",
    "## Deep Learning\n",
    "\n",
    "## Project: Build a Traffic Sign Recognition Classifier\n",
    "\n",
    "In this notebook, a template is provided for you to implement your functionality in stages, which is required to successfully complete this project. If additional code is required that cannot be included in the notebook, be sure that the Python code is successfully imported and included in your submission if necessary. \n",
    "\n",
    "> **Note**: Once you have completed all of the code implementations, you need to finalize your work by exporting the iPython Notebook as an HTML document. Before exporting the notebook to html, all of the code cells need to have been run so that reviewers can see the final implementation and output. You can then export the notebook by using the menu above and navigating to  \\n\",\n",
    "    \"**File -> Download as -> HTML (.html)**. Include the finished document along with this notebook as your submission. \n",
    "\n",
    "In addition to implementing code, there is a writeup to complete. The writeup should be completed in a separate file, which can be either a markdown file or a pdf document. There is a [write up template](https://github.com/udacity/CarND-Traffic-Sign-Classifier-Project/blob/master/writeup_template.md) that can be used to guide the writing process. Completing the code template and writeup template will cover all of the [rubric points](https://review.udacity.com/#!/rubrics/481/view) for this project.\n",
    "\n",
    "The [rubric](https://review.udacity.com/#!/rubrics/481/view) contains \"Stand Out Suggestions\" for enhancing the project beyond the minimum requirements. The stand out suggestions are optional. If you decide to pursue the \"stand out suggestions\", you can include the code in this Ipython notebook and also discuss the results in the writeup file.\n",
    "\n",
    "\n",
    ">**Note:** Code and Markdown cells can be executed using the **Shift + Enter** keyboard shortcut. In addition, Markdown cells can be edited by typically double-clicking the cell to enter edit mode."
   ]
  },
  {
   "cell_type": "markdown",
   "metadata": {},
   "source": [
    "---\n",
    "## Step 0: Load The Data"
   ]
  },
  {
   "cell_type": "code",
   "execution_count": 2,
   "metadata": {},
   "outputs": [
    {
     "name": "stdout",
     "output_type": "stream",
     "text": [
      "X_train: (34799, 32, 32, 3)\n",
      "y_train: (34799,)\n",
      "X_valid: (4410, 32, 32, 3)\n",
      "y_valid: (4410,)\n",
      "X_test: (12630, 32, 32, 3)\n",
      "y_test: (12630,)\n"
     ]
    }
   ],
   "source": [
    "# Load pickled data\n",
    "\n",
    "training_file = \"../data/train.p\"\n",
    "validation_file=\"../data/valid.p\"\n",
    "testing_file = \"../data/test.p\"\n",
    "\n",
    "with open(training_file, mode='rb') as f:\n",
    "    train = pickle.load(f)\n",
    "with open(validation_file, mode='rb') as f:\n",
    "    valid = pickle.load(f)\n",
    "with open(testing_file, mode='rb') as f:\n",
    "    test = pickle.load(f)\n",
    "    \n",
    "X_train, y_train = train['features'], train['labels']\n",
    "X_valid, y_valid = valid['features'], valid['labels']\n",
    "X_test, y_test = test['features'], test['labels']\n",
    "\n",
    "print(\"X_train:\",X_train.shape)\n",
    "print(\"y_train:\",y_train.shape)\n",
    "print(\"X_valid:\",X_valid.shape)\n",
    "print(\"y_valid:\",y_valid.shape)\n",
    "print(\"X_test:\",X_test.shape)\n",
    "print(\"y_test:\",y_test.shape)"
   ]
  },
  {
   "cell_type": "markdown",
   "metadata": {},
   "source": [
    "---\n",
    "\n",
    "## Step 1: Dataset Summary & Exploration\n",
    "\n",
    "The pickled data is a dictionary with 4 key/value pairs:\n",
    "\n",
    "- `'features'` is a 4D array containing raw pixel data of the traffic sign images, (num examples, width, height, channels).\n",
    "- `'labels'` is a 1D array containing the label/class id of the traffic sign. The file `signnames.csv` contains id -> name mappings for each id.\n",
    "- `'sizes'` is a list containing tuples, (width, height) representing the original width and height the image.\n",
    "- `'coords'` is a list containing tuples, (x1, y1, x2, y2) representing coordinates of a bounding box around the sign in the image. **THESE COORDINATES ASSUME THE ORIGINAL IMAGE. THE PICKLED DATA CONTAINS RESIZED VERSIONS (32 by 32) OF THESE IMAGES**\n",
    "\n",
    "Complete the basic data summary below. Use python, numpy and/or pandas methods to calculate the data summary rather than hard coding the results. For example, the [pandas shape method](http://pandas.pydata.org/pandas-docs/stable/generated/pandas.DataFrame.shape.html) might be useful for calculating some of the summary results. "
   ]
  },
  {
   "cell_type": "markdown",
   "metadata": {},
   "source": [
    "### Provide a Basic Summary of the Data Set Using Python, Numpy and/or Pandas"
   ]
  },
  {
   "cell_type": "code",
   "execution_count": 3,
   "metadata": {},
   "outputs": [
    {
     "name": "stdout",
     "output_type": "stream",
     "text": [
      "Number of training examples = 34799\n",
      "Number of testing examples = 12630\n",
      "Image data shape = (32, 32, 3)\n",
      "Number of classes = 43\n"
     ]
    }
   ],
   "source": [
    "\n",
    "### Use python, pandas or numpy methods rather than hard coding the results\n",
    "\n",
    "n_train = X_train.shape[0]\n",
    "n_validation = X_valid.shape[0]\n",
    "n_test = X_test.shape[0]\n",
    "image_shape = X_train.shape[1],X_train.shape[2],X_train.shape[3]\n",
    "\n",
    "n_classes = len(np.unique(y_train))\n",
    "\n",
    "print(\"Number of training examples =\", n_train)\n",
    "print(\"Number of testing examples =\", n_test)\n",
    "print(\"Image data shape =\", image_shape)\n",
    "print(\"Number of classes =\", n_classes)"
   ]
  },
  {
   "cell_type": "markdown",
   "metadata": {},
   "source": [
    "### Include an exploratory visualization of the dataset"
   ]
  },
  {
   "cell_type": "markdown",
   "metadata": {},
   "source": [
    "Visualize the German Traffic Signs Dataset using the pickled file(s). This is open ended, suggestions include: plotting traffic sign images, plotting the count of each sign, etc. \n",
    "\n",
    "The [Matplotlib](http://matplotlib.org/) [examples](http://matplotlib.org/examples/index.html) and [gallery](http://matplotlib.org/gallery.html) pages are a great resource for doing visualizations in Python.\n",
    "\n",
    "**NOTE:** It's recommended you start with something simple first. If you wish to do more, come back to it after you've completed the rest of the sections. It can be interesting to look at the distribution of classes in the training, validation and test set. Is the distribution the same? Are there more examples of some classes than others?"
   ]
  },
  {
   "cell_type": "code",
   "execution_count": 4,
   "metadata": {},
   "outputs": [
    {
     "name": "stdout",
     "output_type": "stream",
     "text": [
      "    ClassId                                           SignName\n",
      "0         0                               Speed limit (20km/h)\n",
      "1         1                               Speed limit (30km/h)\n",
      "2         2                               Speed limit (50km/h)\n",
      "3         3                               Speed limit (60km/h)\n",
      "4         4                               Speed limit (70km/h)\n",
      "5         5                               Speed limit (80km/h)\n",
      "6         6                        End of speed limit (80km/h)\n",
      "7         7                              Speed limit (100km/h)\n",
      "8         8                              Speed limit (120km/h)\n",
      "9         9                                         No passing\n",
      "10       10       No passing for vehicles over 3.5 metric tons\n",
      "11       11              Right-of-way at the next intersection\n",
      "12       12                                      Priority road\n",
      "13       13                                              Yield\n",
      "14       14                                               Stop\n",
      "15       15                                        No vehicles\n",
      "16       16           Vehicles over 3.5 metric tons prohibited\n",
      "17       17                                           No entry\n",
      "18       18                                    General caution\n",
      "19       19                        Dangerous curve to the left\n",
      "20       20                       Dangerous curve to the right\n",
      "21       21                                       Double curve\n",
      "22       22                                         Bumpy road\n",
      "23       23                                      Slippery road\n",
      "24       24                          Road narrows on the right\n",
      "25       25                                          Road work\n",
      "26       26                                    Traffic signals\n",
      "27       27                                        Pedestrians\n",
      "28       28                                  Children crossing\n",
      "29       29                                  Bicycles crossing\n",
      "30       30                                 Beware of ice/snow\n",
      "31       31                              Wild animals crossing\n",
      "32       32                End of all speed and passing limits\n",
      "33       33                                   Turn right ahead\n",
      "34       34                                    Turn left ahead\n",
      "35       35                                         Ahead only\n",
      "36       36                               Go straight or right\n",
      "37       37                                Go straight or left\n",
      "38       38                                         Keep right\n",
      "39       39                                          Keep left\n",
      "40       40                               Roundabout mandatory\n",
      "41       41                                  End of no passing\n",
      "42       42  End of no passing by vehicles over 3.5 metric ...\n"
     ]
    }
   ],
   "source": [
    "label_data=pd.read_csv('signnames.csv')\n",
    "print (label_data)"
   ]
  },
  {
   "cell_type": "code",
   "execution_count": 6,
   "metadata": {},
   "outputs": [
    {
     "name": "stdout",
     "output_type": "stream",
     "text": [
      "7\n"
     ]
    },
    {
     "data": {
      "image/png": "[encoded data removed]",
      "text/plain": [
       "<matplotlib.figure.Figure at 0x7fbc64452d30>"
      ]
     },
     "metadata": {
      "needs_background": "light"
     },
     "output_type": "display_data"
    }
   ],
   "source": [
    "### Data exploration visualization code goes here.\n",
    "### Feel free to use as many code cells as needed.\n",
    "\n",
    "# Visualizations will be shown in the notebook.\n",
    "%matplotlib inline\n",
    "index = random.randint(0, len(X_train))\n",
    "image = X_train[index].squeeze()\n",
    "\n",
    "plt.figure(figsize=(2,2))\n",
    "plt.imshow(image)\n",
    "print(y_train[index])"
   ]
  },
  {
   "cell_type": "code",
   "execution_count": 5,
   "metadata": {},
   "outputs": [
    {
     "data": {
      "image/png": "[encoded data removed]",
      "text/plain": [
       "<matplotlib.figure.Figure at 0x7fbc6449d748>"
      ]
     },
     "metadata": {
      "needs_background": "light"
     },
     "output_type": "display_data"
    }
   ],
   "source": [
    "hist, bins = np.histogram(y_train, bins=n_classes)\n",
    "width =  0.8*(bins[1] - bins[0])\n",
    "center = (bins[:-1] + bins[1:]) / 2\n",
    "plt.bar(center, hist, align='center', width=width)\n",
    "plt.show()"
   ]
  },
  {
   "cell_type": "markdown",
   "metadata": {},
   "source": [
    "----\n",
    "\n",
    "## Step 2: Design and Test a Model Architecture\n",
    "\n",
    "Design and implement a deep learning model that learns to recognize traffic signs. Train and test your model on the [German Traffic Sign Dataset](http://benchmark.ini.rub.de/?section=gtsrb&subsection=dataset).\n",
    "\n",
    "The LeNet-5 implementation shown in the [classroom](https://classroom.udacity.com/nanodegrees/nd013/parts/fbf77062-5703-404e-b60c-95b78b2f3f9e/modules/6df7ae49-c61c-4bb2-a23e-6527e69209ec/lessons/601ae704-1035-4287-8b11-e2c2716217ad/concepts/d4aca031-508f-4e0b-b493-e7b706120f81) at the end of the CNN lesson is a solid starting point. You'll have to change the number of classes and possibly the preprocessing, but aside from that it's plug and play! \n",
    "\n",
    "With the LeNet-5 solution from the lecture, you should expect a validation set accuracy of about 0.89. To meet specifications, the validation set accuracy will need to be at least 0.93. It is possible to get an even higher accuracy, but 0.93 is the minimum for a successful project submission. \n",
    "\n",
    "There are various aspects to consider when thinking about this problem:\n",
    "\n",
    "- Neural network architecture (is the network over or underfitting?)\n",
    "- Play around preprocessing techniques (normalization, rgb to grayscale, etc)\n",
    "- Number of examples per label (some have more than others).\n",
    "- Generate fake data.\n",
    "\n",
    "Here is an example of a [published baseline model on this problem](http://yann.lecun.com/exdb/publis/pdf/sermanet-ijcnn-11.pdf). It's not required to be familiar with the approach used in the paper but, it's good practice to try to read papers like these."
   ]
  },
  {
   "cell_type": "markdown",
   "metadata": {},
   "source": [
    "### Pre-process the Data Set (normalization, grayscale, etc.)"
   ]
  },
  {
   "cell_type": "markdown",
   "metadata": {},
   "source": [
    "Minimally, the image data should be normalized so that the data has mean zero and equal variance. For image data, `(pixel - 128)/ 128` is a quick way to approximately normalize the data and can be used in this project. \n",
    "\n",
    "Other pre-processing steps are optional. You can try different techniques to see if it improves performance. \n",
    "\n",
    "Use the code cell (or multiple code cells, if necessary) to implement the first step of your project."
   ]
  },
  {
   "cell_type": "code",
   "execution_count": 7,
   "metadata": {},
   "outputs": [],
   "source": [
    "def preprocess(Image):\n",
    "    #Convert to grayscale, e.g. single channel Y\n",
    "    Image = 0.299 * Image[:, :, :, 0] + 0.587 * Image[:, :, :, 1] + 0.114 * Image[:, :, :, 2]\n",
    "\n",
    "    #Scale features to be in [0, 1]\n",
    "    Image = (Image / 255.).astype(np.float32)\n",
    "    \n",
    "    #adjust histogram\n",
    "    for i in range(Image.shape[0]):\n",
    "        with warnings.catch_warnings():\n",
    "            warnings.simplefilter(\"ignore\")\n",
    "            Image[i] = exposure.equalize_adapthist(Image[i]) \n",
    "            \n",
    "    return Image\n",
    "\n",
    "def reshape(Img): # Add a single grayscale channel\n",
    "    return Img.reshape(Img.shape + (1,))"
   ]
  },
  {
   "cell_type": "code",
   "execution_count": 9,
   "metadata": {},
   "outputs": [
    {
     "name": "stdout",
     "output_type": "stream",
     "text": [
      "Processing....\n",
      "preprocessed X_train shape: (34799, 32, 32, 1)\n",
      "preprocessed X_valid shape: (4410, 32, 32, 1)\n",
      "preprocessed X_test shape: (12630, 32, 32, 1)\n"
     ]
    }
   ],
   "source": [
    "#Time Consuming due to the histogram step. Run only if it is unavoidable.\n",
    "# Processed data is available in pickle file below\n",
    "\n",
    "print(\"Processing....\")\n",
    "\n",
    "Pre_X_train = preprocess(X_train)\n",
    "X_train_preprocessed = reshape(Pre_X_train)\n",
    "print(\"preprocessed X_train shape:\", X_train_preprocessed.shape)\n",
    "\n",
    "Pre_X_valid = preprocess(X_valid)\n",
    "X_valid_preprocessed = reshape(Pre_X_valid)\n",
    "print(\"preprocessed X_valid shape:\", X_valid_preprocessed.shape)\n",
    "\n",
    "Pre_X_test = preprocess(X_test)\n",
    "X_test_preprocessed = reshape(Pre_X_test)\n",
    "print(\"preprocessed X_test shape:\", X_test_preprocessed.shape)"
   ]
  },
  {
   "cell_type": "code",
   "execution_count": 10,
   "metadata": {},
   "outputs": [],
   "source": [
    "# Preprocessed images are saved in pickle file to save time\n",
    "\n",
    "pickle.dump(X_train_preprocessed, open('training_preprocessed_file.p', \"wb\" ))\n",
    "pickle.dump(X_valid_preprocessed, open('validation_preprocessed_file.p', \"wb\" ))\n",
    "pickle.dump(X_test_preprocessed, open('testing_preprocessed_file.p', \"wb\" ))"
   ]
  },
  {
   "cell_type": "code",
   "execution_count": 8,
   "metadata": {},
   "outputs": [],
   "source": [
    "with open(\"training_preprocessed_file.p\", mode='rb') as f:\n",
    "    X_train_preprocessed = pickle.load(f)\n",
    "with open(\"validation_preprocessed_file.p\", mode='rb') as f:\n",
    "    X_valid_preprocessed = pickle.load(f)\n",
    "with open(\"testing_preprocessed_file.p\", mode='rb') as f:\n",
    "    X_test_preprocessed = pickle.load(f)"
   ]
  },
  {
   "cell_type": "markdown",
   "metadata": {},
   "source": [
    "### Model Architecture"
   ]
  },
  {
   "cell_type": "code",
   "execution_count": 9,
   "metadata": {},
   "outputs": [],
   "source": [
    "### Define your architecture here.\n",
    "### Feel free to use as many code cells as needed.\n",
    "#mu = 0\n",
    "#sigma = 0.1\n",
    "    \n",
    "# SOLUTION: Layer 1: Convolutional. Input = 32x32x1. Output = 28x28x6.\n",
    "#conv1_W = tf.Variable(tf.truncated_normal(shape=(5, 5, 1, 60), mean = mu, stddev = sigma))\n",
    "#conv1_b = tf.Variable(tf.zeros(60))\n",
    "#conv1   = tf.nn.conv2d(x, conv1_W, strides=[1, 1, 1, 1], padding='VALID') + conv1_b\n",
    "\n",
    "weights={\n",
    "    'wc1': tf.Variable(tf.truncated_normal(shape=(5, 5, 1, 64), mean = 0, stddev = 0.1)),\n",
    "    'wc2': tf.Variable(tf.truncated_normal(shape=(5, 5, 64, 32), mean = 0, stddev = 0.1)),\n",
    "    'wd1':tf.Variable(tf.truncated_normal(shape=(8*8*32, 256), mean = 0, stddev = 0.1)),\n",
    "    'Wout': tf.Variable(tf.truncated_normal(shape=(256, 43), mean = 0, stddev = 0.1))\n",
    "}\n",
    "\n",
    "biases = {\n",
    "    'bc1': tf.Variable(tf.zeros([64])),\n",
    "    'bc2': tf.Variable(tf.zeros([32])),\n",
    "    'bd1': tf.Variable(tf.zeros([256])),\n",
    "    'bout': tf.Variable(tf.zeros([43]))\n",
    "}"
   ]
  },
  {
   "cell_type": "code",
   "execution_count": 10,
   "metadata": {},
   "outputs": [],
   "source": [
    "\n",
    "from tensorflow.contrib.layers import flatten\n",
    "\n",
    "def conv2d(x, weights, biases):\n",
    "    conv = tf.nn.conv2d(x, weights, strides = [1, 1, 1, 1], padding = 'SAME')\n",
    "    conv = tf.nn.bias_add(conv, biases)\n",
    "    conv=tf.nn.relu(conv)\n",
    "    conv=tf.nn.max_pool(conv,ksize=[1,2,2,1],strides=[1,2,2,1],padding = 'SAME')\n",
    "    return conv\n",
    "\n",
    "#def leaky_relu(X):\n",
    "   # return tf.maximum(0.01*X,X)\n",
    "def conv_net (X, weights, biases,keep_prob):\n",
    "    \n",
    "    conv1=conv2d(X,weights['wc1'],biases['bc1']) \n",
    "    \n",
    "    conv2=conv2d(conv1,weights['wc2'],biases['bc2'])\n",
    "    \n",
    "    \n",
    "    fc1=flatten(conv2)\n",
    "    #fc1=tf.reshape(conv2,[-1,weights['wd1'].get_shape().as_list()[0]])\n",
    "    fc1=tf.add(tf.matmul(fc1, weights['wd1']), biases['bd1'])\n",
    "    fc1=tf.nn.relu(fc1)\n",
    "    fc1=tf.nn.dropout(fc1, keep_prob)\n",
    "    \n",
    "    out=tf.add(tf.matmul(fc1, weights['Wout']), biases['bout'])\n",
    "    out=tf.nn.dropout(out, keep_prob)\n",
    "    return out\n",
    "\n"
   ]
  },
  {
   "cell_type": "markdown",
   "metadata": {},
   "source": [
    "### Train, Validate and Test the Model"
   ]
  },
  {
   "cell_type": "markdown",
   "metadata": {},
   "source": [
    "A validation set can be used to assess how well the model is performing. A low accuracy on the training and validation\n",
    "sets imply underfitting. A high accuracy on the training set but low accuracy on the validation set implies overfitting."
   ]
  },
  {
   "cell_type": "code",
   "execution_count": 11,
   "metadata": {},
   "outputs": [],
   "source": [
    "### Train your model here.\n",
    "### Calculate and report the accuracy on the training and validation set.\n",
    "### Once a final model architecture is selected, \n",
    "### the accuracy on the test set should be calculated and reported as well.\n",
    "### Feel free to use as many code cells as needed.\n",
    "rate = 0.0005\n",
    "EPOCHS = 75     \n",
    "BATCH_SIZE = 256\n",
    "n_classes=43\n",
    "num_Xtrain = 34799 #len(X_train_preprocessed)\n",
    "\n",
    "x = tf.placeholder(tf.float32, (None, 32, 32, 1))\n",
    "y = tf.placeholder(tf.int32, (None))\n",
    "one_hot_y = tf.one_hot(y, n_classes)\n",
    "keep_prob = tf.placeholder(tf.float32)\n",
    "\n",
    "logits = conv_net(x,weights,biases,keep_prob)\n",
    "\n",
    "cross_entropy = tf.nn.softmax_cross_entropy_with_logits(labels=one_hot_y, logits=logits)\n",
    "loss_operation = tf.reduce_mean(cross_entropy)\n",
    "optimizer = tf.train.AdamOptimizer(learning_rate = rate)\n",
    "training_operation = optimizer.minimize(loss_operation)\n",
    "\n",
    "correct_prediction = tf.equal(tf.argmax(logits, 1), tf.argmax(one_hot_y, 1))\n",
    "accuracy_operation = tf.reduce_mean(tf.cast(correct_prediction, tf.float32))\n",
    "\n",
    "saver = tf.train.Saver()\n"
   ]
  },
  {
   "cell_type": "code",
   "execution_count": null,
   "metadata": {},
   "outputs": [],
   "source": []
  },
  {
   "cell_type": "code",
   "execution_count": null,
   "metadata": {},
   "outputs": [],
   "source": []
  },
  {
   "cell_type": "code",
   "execution_count": null,
   "metadata": {},
   "outputs": [],
   "source": []
  },
  {
   "cell_type": "code",
   "execution_count": null,
   "metadata": {},
   "outputs": [],
   "source": []
  },
  {
   "cell_type": "code",
   "execution_count": null,
   "metadata": {},
   "outputs": [],
   "source": []
  },
  {
   "cell_type": "code",
   "execution_count": 12,
   "metadata": {},
   "outputs": [],
   "source": [
    "def evaluate(X_data, y_data):\n",
    "    \n",
    "    total_accuracy = 0\n",
    "    num_Xtrain = len(X_data)\n",
    "    sess = tf.get_default_session()\n",
    "    \n",
    "    for offset in range(0, num_Xtrain, BATCH_SIZE):  \n",
    "        batch_x, batch_y = X_data[offset:offset + BATCH_SIZE], y_data[offset:offset + BATCH_SIZE]\n",
    "        accuracy = sess.run(accuracy_operation, feed_dict= {x: batch_x, y: batch_y, keep_prob: 1.0})\n",
    "        total_accuracy += (accuracy * len(batch_x))\n",
    "    \n",
    "    return total_accuracy / num_Xtrain"
   ]
  },
  {
   "cell_type": "code",
   "execution_count": 13,
   "metadata": {},
   "outputs": [
    {
     "name": "stdout",
     "output_type": "stream",
     "text": [
      "Training......\n",
      "EPOCH 1 ...\n",
      "Validation Acc = 0.730\n",
      "EPOCH 2 ...\n",
      "Validation Acc = 0.853\n",
      "EPOCH 3 ...\n",
      "Validation Acc = 0.893\n",
      "EPOCH 4 ...\n",
      "Validation Acc = 0.905\n",
      "EPOCH 5 ...\n",
      "Validation Acc = 0.929\n",
      "EPOCH 6 ...\n",
      "Validation Acc = 0.936\n",
      "EPOCH 7 ...\n",
      "Validation Acc = 0.935\n",
      "EPOCH 8 ...\n",
      "Validation Acc = 0.946\n",
      "EPOCH 9 ...\n",
      "Validation Acc = 0.955\n",
      "EPOCH 10 ...\n",
      "Validation Acc = 0.946\n",
      "EPOCH 11 ...\n",
      "Validation Acc = 0.953\n",
      "EPOCH 12 ...\n",
      "Validation Acc = 0.951\n",
      "EPOCH 13 ...\n",
      "Validation Acc = 0.955\n",
      "EPOCH 14 ...\n",
      "Validation Acc = 0.958\n",
      "EPOCH 15 ...\n",
      "Validation Acc = 0.957\n",
      "EPOCH 16 ...\n",
      "Validation Acc = 0.964\n",
      "EPOCH 17 ...\n",
      "Validation Acc = 0.956\n",
      "EPOCH 18 ...\n",
      "Validation Acc = 0.961\n",
      "EPOCH 19 ...\n",
      "Validation Acc = 0.962\n",
      "EPOCH 20 ...\n",
      "Validation Acc = 0.967\n",
      "EPOCH 21 ...\n",
      "Validation Acc = 0.963\n",
      "EPOCH 22 ...\n",
      "Validation Acc = 0.960\n",
      "EPOCH 23 ...\n",
      "Validation Acc = 0.966\n",
      "EPOCH 24 ...\n",
      "Validation Acc = 0.964\n",
      "EPOCH 25 ...\n",
      "Validation Acc = 0.967\n",
      "EPOCH 26 ...\n",
      "Validation Acc = 0.964\n",
      "EPOCH 27 ...\n",
      "Validation Acc = 0.961\n",
      "EPOCH 28 ...\n",
      "Validation Acc = 0.969\n",
      "EPOCH 29 ...\n",
      "Validation Acc = 0.963\n",
      "EPOCH 30 ...\n",
      "Validation Acc = 0.969\n",
      "EPOCH 31 ...\n",
      "Validation Acc = 0.966\n",
      "EPOCH 32 ...\n",
      "Validation Acc = 0.964\n",
      "EPOCH 33 ...\n",
      "Validation Acc = 0.960\n",
      "EPOCH 34 ...\n",
      "Validation Acc = 0.967\n",
      "EPOCH 35 ...\n",
      "Validation Acc = 0.968\n",
      "EPOCH 36 ...\n",
      "Validation Acc = 0.965\n",
      "EPOCH 37 ...\n",
      "Validation Acc = 0.972\n",
      "EPOCH 38 ...\n",
      "Validation Acc = 0.970\n",
      "EPOCH 39 ...\n",
      "Validation Acc = 0.968\n",
      "EPOCH 40 ...\n",
      "Validation Acc = 0.961\n",
      "EPOCH 41 ...\n",
      "Validation Acc = 0.973\n",
      "EPOCH 42 ...\n",
      "Validation Acc = 0.966\n",
      "EPOCH 43 ...\n",
      "Validation Acc = 0.970\n",
      "EPOCH 44 ...\n",
      "Validation Acc = 0.972\n",
      "EPOCH 45 ...\n",
      "Validation Acc = 0.975\n",
      "EPOCH 46 ...\n",
      "Validation Acc = 0.970\n",
      "EPOCH 47 ...\n",
      "Validation Acc = 0.970\n",
      "EPOCH 48 ...\n",
      "Validation Acc = 0.969\n",
      "EPOCH 49 ...\n",
      "Validation Acc = 0.971\n",
      "EPOCH 50 ...\n",
      "Validation Acc = 0.969\n",
      "EPOCH 51 ...\n",
      "Validation Acc = 0.976\n",
      "EPOCH 52 ...\n",
      "Validation Acc = 0.974\n",
      "EPOCH 53 ...\n",
      "Validation Acc = 0.972\n",
      "EPOCH 54 ...\n",
      "Validation Acc = 0.978\n",
      "EPOCH 55 ...\n",
      "Validation Acc = 0.977\n",
      "EPOCH 56 ...\n",
      "Validation Acc = 0.973\n",
      "EPOCH 57 ...\n",
      "Validation Acc = 0.973\n",
      "EPOCH 58 ...\n",
      "Validation Acc = 0.972\n",
      "EPOCH 59 ...\n",
      "Validation Acc = 0.968\n",
      "EPOCH 60 ...\n",
      "Validation Acc = 0.972\n",
      "EPOCH 61 ...\n",
      "Validation Acc = 0.971\n",
      "EPOCH 62 ...\n",
      "Validation Acc = 0.971\n",
      "EPOCH 63 ...\n",
      "Validation Acc = 0.971\n",
      "EPOCH 64 ...\n",
      "Validation Acc = 0.970\n",
      "EPOCH 65 ...\n",
      "Validation Acc = 0.969\n",
      "EPOCH 66 ...\n",
      "Validation Acc = 0.968\n",
      "EPOCH 67 ...\n",
      "Validation Acc = 0.967\n",
      "EPOCH 68 ...\n",
      "Validation Acc = 0.969\n",
      "EPOCH 69 ...\n",
      "Validation Acc = 0.973\n",
      "EPOCH 70 ...\n",
      "Validation Acc = 0.974\n",
      "EPOCH 71 ...\n",
      "Validation Acc = 0.974\n",
      "EPOCH 72 ...\n",
      "Validation Acc = 0.970\n",
      "EPOCH 73 ...\n",
      "Validation Acc = 0.976\n",
      "EPOCH 74 ...\n",
      "Validation Acc = 0.973\n",
      "EPOCH 75 ...\n",
      "Validation Acc = 0.980\n",
      "Model saved\n"
     ]
    }
   ],
   "source": [
    "with tf.Session() as sess:\n",
    "    \n",
    "    sess.run(tf.global_variables_initializer())\n",
    "    print (\"Training......\")\n",
    "    for epoch in range(EPOCHS):\n",
    "        \n",
    "        X_data, y_data = shuffle(X_train_preprocessed, y_train)\n",
    "        \n",
    "        for offset in range(0, num_Xtrain, BATCH_SIZE):\n",
    "            #end = start + BATCH_SIZE\n",
    "            batch_x, batch_y = X_data[offset:offset + BATCH_SIZE], y_data[offset:offset + BATCH_SIZE]\n",
    "            \n",
    "            _, loss = sess.run([training_operation, loss_operation], feed_dict = {x: batch_x, y: batch_y, keep_prob: 0.75})\n",
    "            \n",
    "        validation_accuracy = evaluate(X_valid_preprocessed, y_valid)\n",
    "        \n",
    "        print(\"EPOCH {} ...\".format(epoch+1))\n",
    "        print(\"Validation Acc = {:.3f}\".format(validation_accuracy))\n",
    "        \n",
    "    saver.save(sess, './model')\n",
    "    print(\"Model saved\")"
   ]
  },
  {
   "cell_type": "code",
   "execution_count": 14,
   "metadata": {},
   "outputs": [
    {
     "name": "stdout",
     "output_type": "stream",
     "text": [
      "INFO:tensorflow:Restoring parameters from ./model\n",
      "Test Accuracy = 0.968\n"
     ]
    }
   ],
   "source": [
    "with tf.Session() as sess:\n",
    "    saver.restore(sess, tf.train.latest_checkpoint('.'))\n",
    "\n",
    "    test_accuracy = evaluate(X_test_preprocessed, y_test)\n",
    "    print(\"Test Accuracy = {:.3f}\".format(test_accuracy))"
   ]
  },
  {
   "cell_type": "markdown",
   "metadata": {},
   "source": [
    "---\n",
    "\n",
    "## Step 3: Test a Model on New Images\n",
    "\n",
    "To give yourself more insight into how your model is working, download at least five pictures of German traffic signs from the web and use your model to predict the traffic sign type.\n",
    "\n",
    "You may find `signnames.csv` useful as it contains mappings from the class id (integer) to the actual sign name."
   ]
  },
  {
   "cell_type": "markdown",
   "metadata": {},
   "source": [
    "### Load and Output the Images"
   ]
  },
  {
   "cell_type": "code",
   "execution_count": 15,
   "metadata": {},
   "outputs": [
    {
     "name": "stdout",
     "output_type": "stream",
     "text": [
      "(7, 32, 32, 1) (7,)\n"
     ]
    }
   ],
   "source": [
    "### Load the images and plot them here.\n",
    "### Feel free to use as many code cells as needed.\n",
    "\n",
    "\n",
    "path = 'Test_images/'\n",
    "image_name = ['70km','PriorityRoad','13-yield','Stop','NoEntry','18-general-caution','RoadWork']\n",
    "\n",
    "image_list = []\n",
    "for name in image_name:\n",
    "    img = imread(path + name + '.jpg')\n",
    "    img = imresize(img, (32, 32))\n",
    "    image_list.append(img)\n",
    "\n",
    "test_x = np.array(image_list)\n",
    "test_x = preprocess(test_x)\n",
    "test_x = reshape(test_x)\n",
    "test_y = np.array([4, 12, 13, 14, 17, 18, 25])\n",
    "print(test_x.shape, test_y.shape)"
   ]
  },
  {
   "cell_type": "code",
   "execution_count": 16,
   "metadata": {},
   "outputs": [
    {
     "data": {
      "image/png": "[encoded data removed]",
      "text/plain": [
       "<matplotlib.figure.Figure at 0x7fbc63b23b00>"
      ]
     },
     "metadata": {
      "needs_background": "light"
     },
     "output_type": "display_data"
    }
   ],
   "source": [
    "n_images = len(image_list)\n",
    "figure, axis = plt.subplots(1, n_images, figsize=(10, 10))\n",
    "figure.subplots_adjust(hspace = .2, wspace=.001)\n",
    "axis = axis.ravel()\n",
    "    \n",
    "for i in range(n_images):     \n",
    "    image = image_list[i]\n",
    "    axis[i].axis('off')\n",
    "    axis[i].imshow(image)\n",
    "\n"
   ]
  },
  {
   "cell_type": "code",
   "execution_count": 17,
   "metadata": {},
   "outputs": [
    {
     "name": "stdout",
     "output_type": "stream",
     "text": [
      "14\n"
     ]
    },
    {
     "data": {
      "image/png": "[encoded data removed]",
      "text/plain": [
       "<matplotlib.figure.Figure at 0x7fbcd0cff978>"
      ]
     },
     "metadata": {
      "needs_background": "light"
     },
     "output_type": "display_data"
    }
   ],
   "source": [
    "%matplotlib inline\n",
    "index = random.randint(0, len(test_x))\n",
    "test_image = test_x[index].squeeze()\n",
    "\n",
    "plt.figure(figsize=(3,3))\n",
    "plt.imshow(test_image,cmap='gray')\n",
    "print(test_y[index])"
   ]
  },
  {
   "cell_type": "markdown",
   "metadata": {},
   "source": [
    "### Predict the Sign Type for Each Image"
   ]
  },
  {
   "cell_type": "code",
   "execution_count": 18,
   "metadata": {},
   "outputs": [
    {
     "name": "stdout",
     "output_type": "stream",
     "text": [
      "INFO:tensorflow:Restoring parameters from ./model\n",
      "Test Accuracy = 0.857\n"
     ]
    }
   ],
   "source": [
    "### Run the predictions here and use the model to output the prediction for each image.\n",
    "### Make sure to pre-process the images with the same pre-processing pipeline used earlier.\n",
    "### Feel free to use as many code cells as needed.\n",
    "with tf.Session() as sess:\n",
    "    saver.restore(sess, tf.train.latest_checkpoint('.'))\n",
    "    test_accuracy = evaluate(test_x, test_y)\n",
    "    print(\"Test Accuracy = {:.3f}\".format(test_accuracy))"
   ]
  },
  {
   "cell_type": "markdown",
   "metadata": {},
   "source": [
    "### Analyze Performance"
   ]
  },
  {
   "cell_type": "code",
   "execution_count": 19,
   "metadata": {},
   "outputs": [
    {
     "name": "stdout",
     "output_type": "stream",
     "text": [
      "INFO:tensorflow:Restoring parameters from ./model\n",
      " [ 3 12 13 14 17 18 25] <-predictions\n",
      " [ 4 12 13 14 17 18 25] <-actual\n"
     ]
    }
   ],
   "source": [
    "### Calculate the accuracy for these 5 new images. \n",
    "### For example, if the model predicted 1 out of 5 signs correctly, it's 20% accurate on these new images.\n",
    "with tf.Session() as sess:\n",
    "    saver.restore(sess, tf.train.latest_checkpoint('.'))\n",
    "    OUT = sess.run(tf.argmax(logits, 1), feed_dict={x: test_x, y: test_y, keep_prob: 1.0})\n",
    "    print(\"\", OUT, \"<-predictions\")\n",
    "    print(\"\", test_y, \"<-actual\")\n"
   ]
  },
  {
   "cell_type": "markdown",
   "metadata": {},
   "source": [
    "### Output Top 5 Softmax Probabilities For Each Image Found on the Web"
   ]
  },
  {
   "cell_type": "markdown",
   "metadata": {},
   "source": [
    "For each of the new images, print out the model's softmax probabilities to show the **certainty** of the model's predictions (limit the output to the top 5 probabilities for each image). [`tf.nn.top_k`](https://www.tensorflow.org/versions/r0.12/api_docs/python/nn.html#top_k) could prove helpful here. \n",
    "\n",
    "The example below demonstrates how tf.nn.top_k can be used to find the top k predictions for each image.\n",
    "\n",
    "`tf.nn.top_k` will return the values and indices (class ids) of the top k predictions. So if k=3, for each sign, it'll return the 3 largest probabilities (out of a possible 43) and the correspoding class ids.\n",
    "\n",
    "Take this numpy array as an example. The values in the array represent predictions. The array contains softmax probabilities for five candidate images with six possible classes. `tf.nn.top_k` is used to choose the three classes with the highest probability:\n",
    "\n",
    "```\n",
    "# (5, 6) array\n",
    "a = np.array([[ 0.24879643,  0.07032244,  0.12641572,  0.34763842,  0.07893497,\n",
    "         0.12789202],\n",
    "       [ 0.28086119,  0.27569815,  0.08594638,  0.0178669 ,  0.18063401,\n",
    "         0.15899337],\n",
    "       [ 0.26076848,  0.23664738,  0.08020603,  0.07001922,  0.1134371 ,\n",
    "         0.23892179],\n",
    "       [ 0.11943333,  0.29198961,  0.02605103,  0.26234032,  0.1351348 ,\n",
    "         0.16505091],\n",
    "       [ 0.09561176,  0.34396535,  0.0643941 ,  0.16240774,  0.24206137,\n",
    "         0.09155967]])\n",
    "```\n",
    "\n",
    "Running it through `sess.run(tf.nn.top_k(tf.constant(a), k=3))` produces:\n",
    "\n",
    "```\n",
    "TopKV2(values=array([[ 0.34763842,  0.24879643,  0.12789202],\n",
    "       [ 0.28086119,  0.27569815,  0.18063401],\n",
    "       [ 0.26076848,  0.23892179,  0.23664738],\n",
    "       [ 0.29198961,  0.26234032,  0.16505091],\n",
    "       [ 0.34396535,  0.24206137,  0.16240774]]), indices=array([[3, 0, 5],\n",
    "       [0, 1, 4],\n",
    "       [0, 5, 1],\n",
    "       [1, 3, 5],\n",
    "       [1, 4, 3]], dtype=int32))\n",
    "```\n",
    "\n",
    "Looking just at the first row we get `[ 0.34763842,  0.24879643,  0.12789202]`, you can confirm these are the 3 largest probabilities in `a`. You'll also notice `[3, 0, 5]` are the corresponding indices."
   ]
  },
  {
   "cell_type": "code",
   "execution_count": 20,
   "metadata": {},
   "outputs": [
    {
     "name": "stdout",
     "output_type": "stream",
     "text": [
      "INFO:tensorflow:Restoring parameters from ./model\n",
      "[[ 3 12 13 14 17 18 25]\n",
      " [ 4 13 12  8  9 27 22]\n",
      " [ 0 32 17 22 20 26 20]\n",
      " [16  2 14 33 39 11 30]\n",
      " [ 1 17 33 13 32 28 29]]\n",
      "(top  5 predictions above) for each image\n",
      "\n",
      "probability for top 5 predictions for each image:\n",
      "0 [  9.98971581e-01   1.01942418e-03   6.16052375e-06   1.08990844e-06\n",
      "   1.02304864e-06]\n",
      "1 [  1.00000000e+00   6.70145606e-11   6.85896001e-12   5.66841767e-13\n",
      "   4.81612254e-13]\n",
      "2 [  1.00000000e+00   2.63382914e-12   3.75267063e-15   2.67558756e-15\n",
      "   2.32520264e-15]\n",
      "3 [  1.00000000e+00   1.86945659e-09   1.34424538e-09   1.98159378e-10\n",
      "   7.82537229e-11]\n",
      "4 [  1.00000000e+00   3.47748874e-09   2.47369081e-09   1.87523841e-09\n",
      "   1.45925916e-09]\n",
      "5 [  1.00000000e+00   9.22400499e-15   8.21050794e-16   4.31453596e-16\n",
      "   2.68609897e-16]\n",
      "6 [  9.97228563e-01   1.43761758e-03   9.09637485e-04   2.03599164e-04\n",
      "   1.67833306e-04]\n",
      "INFO:tensorflow:Restoring parameters from ./model\n",
      "Test Accuracy = 0.857\n"
     ]
    }
   ],
   "source": [
    "### Print out the top five softmax probabilities for the predictions on the German traffic sign images found on the web. \n",
    "### Feel free to use as many code cells as needed.\n",
    "\n",
    "\n",
    "with tf.Session() as sess:\n",
    "    saver.restore(sess, tf.train.latest_checkpoint('.'))\n",
    "    OUT = sess.run(tf.nn.top_k(tf.nn.softmax(logits), 5), feed_dict={x: test_x, y: test_y, keep_prob: 1.0})\n",
    "    print(OUT[1].T)\n",
    "    print(\"(top  5 predictions above) for each image\")\n",
    "    \n",
    "print()    \n",
    "print(\"probability for top 5 predictions for each image:\")\n",
    "for i in range(len(test_y)):\n",
    "    print(i, OUT[0][i].T)\n",
    "\n",
    "\n",
    "with tf.Session() as sess:\n",
    "    saver.restore(sess, tf.train.latest_checkpoint('.'))\n",
    "    test_accuracy = evaluate(test_x, test_y )\n",
    "    print(\"Test Accuracy = {:.3f}\".format(test_accuracy))"
   ]
  },
  {
   "cell_type": "markdown",
   "metadata": {},
   "source": [
    "### Project Writeup\n",
    "\n",
    "Once you have completed the code implementation, document your results in a project writeup using this [template](https://github.com/udacity/CarND-Traffic-Sign-Classifier-Project/blob/master/writeup_template.md) as a guide. The writeup can be in a markdown or pdf file. "
   ]
  },
  {
   "cell_type": "markdown",
   "metadata": {},
   "source": [
    "> **Note**: Once you have completed all of the code implementations and successfully answered each question above, you may finalize your work by exporting the iPython Notebook as an HTML document. You can do this by using the menu above and navigating to  \\n\",\n",
    "    \"**File -> Download as -> HTML (.html)**. Include the finished document along with this notebook as your submission."
   ]
  },
  {
   "cell_type": "markdown",
   "metadata": {},
   "source": [
    "---\n",
    "\n",
    "## Step 4 (Optional): Visualize the Neural Network's State with Test Images\n",
    "\n",
    " This Section is not required to complete but acts as an additional excersise for understaning the output of a neural network's weights. While neural networks can be a great learning device they are often referred to as a black box. We can understand what the weights of a neural network look like better by plotting their feature maps. After successfully training your neural network you can see what it's feature maps look like by plotting the output of the network's weight layers in response to a test stimuli image. From these plotted feature maps, it's possible to see what characteristics of an image the network finds interesting. For a sign, maybe the inner network feature maps react with high activation to the sign's boundary outline or to the contrast in the sign's painted symbol.\n",
    "\n",
    " Provided for you below is the function code that allows you to get the visualization output of any tensorflow weight layer you want. The inputs to the function should be a stimuli image, one used during training or a new one you provided, and then the tensorflow variable name that represents the layer's state during the training process, for instance if you wanted to see what the [LeNet lab's](https://classroom.udacity.com/nanodegrees/nd013/parts/fbf77062-5703-404e-b60c-95b78b2f3f9e/modules/6df7ae49-c61c-4bb2-a23e-6527e69209ec/lessons/601ae704-1035-4287-8b11-e2c2716217ad/concepts/d4aca031-508f-4e0b-b493-e7b706120f81) feature maps looked like for it's second convolutional layer you could enter conv2 as the tf_activation variable.\n",
    "\n",
    "For an example of what feature map outputs look like, check out NVIDIA's results in their paper [End-to-End Deep Learning for Self-Driving Cars](https://devblogs.nvidia.com/parallelforall/deep-learning-self-driving-cars/) in the section Visualization of internal CNN State. NVIDIA was able to show that their network's inner weights had high activations to road boundary lines by comparing feature maps from an image with a clear path to one without. Try experimenting with a similar test to show that your trained network's weights are looking for interesting features, whether it's looking at differences in feature maps from images with or without a sign, or even what feature maps look like in a trained network vs a completely untrained one on the same sign image.\n",
    "\n",
    "<figure>\n",
    " <img src=\"visualize_cnn.png\" width=\"380\" alt=\"Combined Image\" />\n",
    " <figcaption>\n",
    " <p></p> \n",
    " <p style=\"text-align: center;\"> Your output should look something like this (above)</p> \n",
    " </figcaption>\n",
    "</figure>\n",
    " <p></p> \n"
   ]
  },
  {
   "cell_type": "code",
   "execution_count": null,
   "metadata": {},
   "outputs": [],
   "source": [
    "### Visualize your network's feature maps here.\n",
    "### Feel free to use as many code cells as needed.\n",
    "\n",
    "# image_input: the test image being fed into the network to produce the feature maps\n",
    "# tf_activation: should be a tf variable name used during your training procedure that represents the calculated state of a specific weight layer\n",
    "# activation_min/max: can be used to view the activation contrast in more detail, by default matplot sets min and max to the actual min and max values of the output\n",
    "# plt_num: used to plot out multiple different weight feature map sets on the same block, just extend the plt number for each new feature map entry\n",
    "\n",
    "def outputFeatureMap(image_input, tf_activation, activation_min=-1, activation_max=-1 ,plt_num=1):\n",
    "    # Here make sure to preprocess your image_input in a way your network expects\n",
    "    # with size, normalization, ect if needed\n",
    "    # image_input =\n",
    "    # Note: x should be the same name as your network's tensorflow data placeholder variable\n",
    "    # If you get an error tf_activation is not defined it may be having trouble accessing the variable from inside a function\n",
    "    activation = tf_activation.eval(session=sess,feed_dict={x : image_input})\n",
    "    featuremaps = activation.shape[3]\n",
    "    plt.figure(plt_num, figsize=(15,15))\n",
    "    for featuremap in range(featuremaps):\n",
    "        plt.subplot(6,8, featuremap+1) # sets the number of feature maps to show on each row and column\n",
    "        plt.title('FeatureMap ' + str(featuremap)) # displays the feature map number\n",
    "        if activation_min != -1 & activation_max != -1:\n",
    "            plt.imshow(activation[0,:,:, featuremap], interpolation=\"nearest\", vmin =activation_min, vmax=activation_max, cmap=\"gray\")\n",
    "        elif activation_max != -1:\n",
    "            plt.imshow(activation[0,:,:, featuremap], interpolation=\"nearest\", vmax=activation_max, cmap=\"gray\")\n",
    "        elif activation_min !=-1:\n",
    "            plt.imshow(activation[0,:,:, featuremap], interpolation=\"nearest\", vmin=activation_min, cmap=\"gray\")\n",
    "        else:\n",
    "            plt.imshow(activation[0,:,:, featuremap], interpolation=\"nearest\", cmap=\"gray\")"
   ]
  }
 ],
 "metadata": {
  "anaconda-cloud": {},
  "kernelspec": {
   "display_name": "Python 3",
   "language": "python",
   "name": "python3"
  },
  "language_info": {
   "codemirror_mode": {
    "name": "ipython",
    "version": 3
   },
   "file_extension": ".py",
   "mimetype": "text/x-python",
   "name": "python",
   "nbconvert_exporter": "python",
   "pygments_lexer": "ipython3",
   "version": "3.6.3"
  }
 },
 "nbformat": 4,
 "nbformat_minor": 1
}
