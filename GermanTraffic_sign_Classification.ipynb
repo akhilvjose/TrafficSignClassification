{
  "nbformat": 4,
  "nbformat_minor": 0,
  "metadata": {
    "colab": {
      "name": "GermanTraffic_sign_Classification.ipynb",
      "version": "0.3.2",
      "provenance": [],
      "collapsed_sections": [],
      "include_colab_link": true
    },
    "kernelspec": {
      "name": "python3",
      "display_name": "Python 3"
    },
    "accelerator": "GPU"
  },
  "cells": [
    {
      "cell_type": "markdown",
      "metadata": {
        "id": "view-in-github",
        "colab_type": "text"
      },
      "source": [
        "<a href=\"https://colab.research.google.com/github/akhilvjose/TrafficSignClassification/blob/master/GermanTraffic_sign_Classification.ipynb\" target=\"_parent\"><img src=\"https://colab.research.google.com/assets/colab-badge.svg\" alt=\"Open In Colab\"/></a>"
      ]
    },
    {
      "metadata": {
        "id": "CKBHyuJEEmnA",
        "colab_type": "code",
        "outputId": "38b9211b-efdc-4fae-c496-ae590698ee4a",
        "colab": {
          "base_uri": "https://localhost:8080/",
          "height": 34
        }
      },
      "cell_type": "code",
      "source": [
        "!pip install wget"
      ],
      "execution_count": 0,
      "outputs": [
        {
          "output_type": "stream",
          "text": [
            "Requirement already satisfied: wget in /usr/local/lib/python3.6/dist-packages (3.2)\n"
          ],
          "name": "stdout"
        }
      ]
    },
    {
      "metadata": {
        "id": "XZiqKCDCEnBu",
        "colab_type": "code",
        "colab": {}
      },
      "cell_type": "code",
      "source": [
        "import wget\n",
        "import zipfile"
      ],
      "execution_count": 0,
      "outputs": []
    },
    {
      "metadata": {
        "id": "GcC7H6d_D3Td",
        "colab_type": "code",
        "outputId": "bb39eb74-ad0c-4108-e9db-996d48eb1ab5",
        "colab": {
          "base_uri": "https://localhost:8080/",
          "height": 34
        }
      },
      "cell_type": "code",
      "source": [
        "wget.download(\"https://s3-us-west-1.amazonaws.com/udacity-selfdrivingcar/traffic-signs-data.zip\")"
      ],
      "execution_count": 0,
      "outputs": [
        {
          "output_type": "execute_result",
          "data": {
            "text/plain": [
              "'traffic-signs-data.zip'"
            ]
          },
          "metadata": {
            "tags": []
          },
          "execution_count": 3
        }
      ]
    },
    {
      "metadata": {
        "id": "ke3B52xlE0Yu",
        "colab_type": "code",
        "colab": {}
      },
      "cell_type": "code",
      "source": [
        "with zipfile.ZipFile('traffic-signs-data.zip', 'r') as zip_ref:\n",
        "  zip_ref.extractall('Traffic_data')"
      ],
      "execution_count": 0,
      "outputs": []
    },
    {
      "metadata": {
        "id": "hN06Y62DE3XD",
        "colab_type": "code",
        "outputId": "9863d2ec-b5ae-458e-c40e-02601567f32b",
        "colab": {
          "base_uri": "https://localhost:8080/",
          "height": 34
        }
      },
      "cell_type": "code",
      "source": [
        "!ls Traffic_data"
      ],
      "execution_count": 0,
      "outputs": [
        {
          "output_type": "stream",
          "text": [
            "test.p\ttrain.p  valid.p\n"
          ],
          "name": "stdout"
        }
      ]
    },
    {
      "metadata": {
        "id": "UbJb4kCQGCi-",
        "colab_type": "text"
      },
      "cell_type": "markdown",
      "source": [
        "## Project: Build a Traffic Sign Recognition Classifier"
      ]
    },
    {
      "metadata": {
        "id": "P2Q7kCsiFiLg",
        "colab_type": "code",
        "colab": {}
      },
      "cell_type": "code",
      "source": [
        "import pickle\n",
        "import random \n",
        "import matplotlib.pyplot as plt\n",
        "import numpy as np\n",
        "import pandas as pd\n",
        "from sklearn.utils import shuffle\n",
        "import tensorflow as tf\n",
        "from scipy.misc import imread, imsave, imresize\n",
        "import warnings\n",
        "from skimage import exposure"
      ],
      "execution_count": 0,
      "outputs": []
    },
    {
      "metadata": {
        "id": "C-iCKvu_GNsT",
        "colab_type": "text"
      },
      "cell_type": "markdown",
      "source": [
        "## Step 0: Load The Data"
      ]
    },
    {
      "metadata": {
        "id": "8JOj8FfhGMbC",
        "colab_type": "code",
        "outputId": "2fa431f6-778f-46cb-bacc-b5d6d2387de7",
        "colab": {
          "base_uri": "https://localhost:8080/",
          "height": 119
        }
      },
      "cell_type": "code",
      "source": [
        "# Load pickled data\n",
        "\n",
        "training_file = \"Traffic_data/train.p\"\n",
        "validation_file=\"Traffic_data/valid.p\"\n",
        "testing_file = \"Traffic_data/test.p\"\n",
        "\n",
        "with open(training_file, mode='rb') as f:\n",
        "    train = pickle.load(f)\n",
        "with open(validation_file, mode='rb') as f:\n",
        "    valid = pickle.load(f)\n",
        "with open(testing_file, mode='rb') as f:\n",
        "    test = pickle.load(f)\n",
        "    \n",
        "X_train, y_train = train['features'], train['labels']\n",
        "X_valid, y_valid = valid['features'], valid['labels']\n",
        "X_test, y_test = test['features'], test['labels']\n",
        "\n",
        "print(\"X_train:\",X_train.shape)\n",
        "print(\"y_train:\",y_train.shape)\n",
        "print(\"X_valid:\",X_valid.shape)\n",
        "print(\"y_valid:\",y_valid.shape)\n",
        "print(\"X_test:\",X_test.shape)\n",
        "print(\"y_test:\",y_test.shape)"
      ],
      "execution_count": 0,
      "outputs": [
        {
          "output_type": "stream",
          "text": [
            "X_train: (34799, 32, 32, 3)\n",
            "y_train: (34799,)\n",
            "X_valid: (4410, 32, 32, 3)\n",
            "y_valid: (4410,)\n",
            "X_test: (12630, 32, 32, 3)\n",
            "y_test: (12630,)\n"
          ],
          "name": "stdout"
        }
      ]
    },
    {
      "metadata": {
        "id": "UMhqZxaCGqNA",
        "colab_type": "text"
      },
      "cell_type": "markdown",
      "source": [
        "## Step 1: Dataset Summary & Exploration\n",
        "\n",
        "The pickled data is a dictionary with 4 key/value pairs:\n",
        "\n",
        "- `'features'` is a 4D array containing raw pixel data of the traffic sign images, (num examples, width, height, channels).\n",
        "- `'labels'` is a 1D array containing the label/class id of the traffic sign. The file `signnames.csv` contains id -> name mappings for each id.\n",
        "- `'sizes'` is a list containing tuples, (width, height) representing the original width and height the image.\n",
        "- `'coords'` is a list containing tuples, (x1, y1, x2, y2) representing coordinates of a bounding box around the sign in the image. **THESE COORDINATES ASSUME THE ORIGINAL IMAGE. THE PICKLED DATA CONTAINS RESIZED VERSIONS (32 by 32) OF THESE IMAGES**\n",
        "\n",
        "Complete the basic data summary below. Use python, numpy and/or pandas methods to calculate the data summary rather than hard coding the results. For example, the [pandas shape method](http://pandas.pydata.org/pandas-docs/stable/generated/pandas.DataFrame.shape.html) might be useful for calculating some of the summary results. "
      ]
    },
    {
      "metadata": {
        "id": "1jFRcQcQGcH_",
        "colab_type": "code",
        "outputId": "19a7f3c4-d501-4cae-8278-7ca8955ef9ac",
        "colab": {
          "base_uri": "https://localhost:8080/",
          "height": 85
        }
      },
      "cell_type": "code",
      "source": [
        "### Use python, pandas or numpy methods rather than hard coding the results\n",
        "\n",
        "n_train = X_train.shape[0]\n",
        "n_validation = X_valid.shape[0]\n",
        "n_test = X_test.shape[0]\n",
        "image_shape = X_train.shape[1],X_train.shape[2],X_train.shape[3]\n",
        "\n",
        "n_classes = len(np.unique(y_train))\n",
        "\n",
        "print(\"Number of training examples =\", n_train)\n",
        "print(\"Number of testing examples =\", n_test)\n",
        "print(\"Image data shape =\", image_shape)\n",
        "print(\"Number of classes =\", n_classes)"
      ],
      "execution_count": 0,
      "outputs": [
        {
          "output_type": "stream",
          "text": [
            "Number of training examples = 34799\n",
            "Number of testing examples = 12630\n",
            "Image data shape = (32, 32, 3)\n",
            "Number of classes = 43\n"
          ],
          "name": "stdout"
        }
      ]
    },
    {
      "metadata": {
        "id": "m_iE8ZLyG2rE",
        "colab_type": "text"
      },
      "cell_type": "markdown",
      "source": [
        "### Include an exploratory visualization of the dataset\n",
        "\n",
        "Visualize the German Traffic Signs Dataset using the pickled file(s). This is open ended, suggestions include: plotting traffic sign images, plotting the count of each sign, etc. \n",
        "\n",
        "The [Matplotlib](http://matplotlib.org/) [examples](http://matplotlib.org/examples/index.html) and [gallery](http://matplotlib.org/gallery.html) pages are a great resource for doing visualizations in Python.\n",
        "\n",
        "**NOTE:** It's recommended you start with something simple first. If you wish to do more, come back to it after you've completed the rest of the sections. It can be interesting to look at the distribution of classes in the training, validation and test set. Is the distribution the same? Are there more examples of some classes than others?\n"
      ]
    },
    {
      "metadata": {
        "id": "QklF2dPMH7KH",
        "colab_type": "text"
      },
      "cell_type": "markdown",
      "source": [
        "#### use if you have the csv file\n",
        "label_data=pd.read_csv('signnames.csv') \n",
        "\n",
        "print (label_data)\n"
      ]
    },
    {
      "metadata": {
        "id": "hQV5CIIPG9gO",
        "colab_type": "code",
        "outputId": "4c2f4e41-f0aa-4aab-f4ba-289b115a86a8",
        "colab": {
          "base_uri": "https://localhost:8080/",
          "height": 176
        }
      },
      "cell_type": "code",
      "source": [
        "### Data exploration visualization code goes here.\n",
        "### Feel free to use as many code cells as needed.\n",
        "\n",
        "# Visualizations will be shown in the notebook.\n",
        "%matplotlib inline\n",
        "index = random.randint(0, len(X_train))\n",
        "image = X_train[index].squeeze()\n",
        "\n",
        "plt.figure(figsize=(2,2))\n",
        "plt.imshow(image)\n",
        "print(y_train[index])"
      ],
      "execution_count": 0,
      "outputs": [
        {
          "output_type": "stream",
          "text": [
            "10\n"
          ],
          "name": "stdout"
        },
        {
          "output_type": "display_data",
          "data": {
            "image/png": "[encoded data removed]",
            "text/plain": [
              "<matplotlib.figure.Figure at 0x7fb5cf405a58>"
            ]
          },
          "metadata": {
            "tags": []
          }
        }
      ]
    },
    {
      "metadata": {
        "id": "JX1jncU_HsOf",
        "colab_type": "code",
        "outputId": "819b4a84-2f5d-4412-833a-5a955c2c77fe",
        "colab": {
          "base_uri": "https://localhost:8080/",
          "height": 265
        }
      },
      "cell_type": "code",
      "source": [
        "hist, bins = np.histogram(y_train, bins=n_classes)\n",
        "width =  0.8*(bins[1] - bins[0])\n",
        "center = (bins[:-1] + bins[1:]) / 2\n",
        "plt.bar(center, hist, align='center', width=width)\n",
        "plt.show()"
      ],
      "execution_count": 0,
      "outputs": [
        {
          "output_type": "display_data",
          "data": {
            "image/png": "[encoded data removed]",
            "text/plain": [
              "<matplotlib.figure.Figure at 0x7fb5e5dade80>"
            ]
          },
          "metadata": {
            "tags": []
          }
        }
      ]
    },
    {
      "metadata": {
        "id": "5ZfqIjzWH3AA",
        "colab_type": "text"
      },
      "cell_type": "markdown",
      "source": [
        "## Step 2: Design and Test a Model Architecture\n",
        "\n",
        "Design and implement a deep learning model that learns to recognize traffic signs. Train and test your model on the [German Traffic Sign Dataset](http://benchmark.ini.rub.de/?section=gtsrb&subsection=dataset).\n",
        "\n",
        "The LeNet-5 implementation shown in the [classroom](https://classroom.udacity.com/nanodegrees/nd013/parts/fbf77062-5703-404e-b60c-95b78b2f3f9e/modules/6df7ae49-c61c-4bb2-a23e-6527e69209ec/lessons/601ae704-1035-4287-8b11-e2c2716217ad/concepts/d4aca031-508f-4e0b-b493-e7b706120f81) at the end of the CNN lesson is a solid starting point. You'll have to change the number of classes and possibly the preprocessing, but aside from that it's plug and play! \n",
        "\n",
        "With the LeNet-5 solution from the lecture, you should expect a validation set accuracy of about 0.89. To meet specifications, the validation set accuracy will need to be at least 0.93. It is possible to get an even higher accuracy, but 0.93 is the minimum for a successful project submission. \n",
        "\n",
        "There are various aspects to consider when thinking about this problem:\n",
        "\n",
        "- Neural network architecture (is the network over or underfitting?)\n",
        "- Play around preprocessing techniques (normalization, rgb to grayscale, etc)\n",
        "- Number of examples per label (some have more than others).\n",
        "- Generate fake data.\n",
        "\n",
        "Here is an example of a [published baseline model on this problem](http://yann.lecun.com/exdb/publis/pdf/sermanet-ijcnn-11.pdf). It's not required to be familiar with the approach used in the paper but, it's good practice to try to read papers like these."
      ]
    },
    {
      "metadata": {
        "id": "Vbs4DdHyIXw0",
        "colab_type": "text"
      },
      "cell_type": "markdown",
      "source": [
        "### Pre-process the Data Set (normalization, grayscale, etc.)\n",
        "Minimally, the image data should be normalized so that the data has mean zero and equal variance. For image data, (pixel - 128)/ 128 is a quick way to approximately normalize the data and can be used in this project.\n",
        "\n",
        "Other pre-processing steps are optional. You can try different techniques to see if it improves performance.\n",
        "\n",
        "Use the code cell (or multiple code cells, if necessary) to implement the first step of your project."
      ]
    },
    {
      "metadata": {
        "id": "Nu7aYQaQHwYz",
        "colab_type": "code",
        "colab": {}
      },
      "cell_type": "code",
      "source": [
        "def preprocess(Image):\n",
        "    #Convert to grayscale, e.g. single channel Y\n",
        "    Image = 0.299 * Image[:, :, :, 0] + 0.587 * Image[:, :, :, 1] + 0.114 * Image[:, :, :, 2]\n",
        "\n",
        "    #Scale features to be in [0, 1]\n",
        "    Image = (Image / 255.).astype(np.float32)\n",
        "    \n",
        "    #adjust histogram\n",
        "    for i in range(Image.shape[0]):\n",
        "        with warnings.catch_warnings():\n",
        "            warnings.simplefilter(\"ignore\")\n",
        "            Image[i] = exposure.equalize_adapthist(Image[i]) \n",
        "            \n",
        "    return Image\n",
        "\n",
        "def reshape(Img): # Add a single grayscale channel\n",
        "    return Img.reshape(Img.shape + (1,))"
      ],
      "execution_count": 0,
      "outputs": []
    },
    {
      "metadata": {
        "id": "SycVOwK4IlXJ",
        "colab_type": "code",
        "outputId": "df36c588-e0ab-4ff0-95a3-814badf35f5f",
        "colab": {
          "base_uri": "https://localhost:8080/",
          "height": 85
        }
      },
      "cell_type": "code",
      "source": [
        "#Time Consuming due to the histogram step. Run only if it is unavoidable.\n",
        "# Processed data is available in pickle file below\n",
        "\n",
        "print(\"Processing....\")\n",
        "\n",
        "Pre_X_train = preprocess(X_train)\n",
        "X_train_preprocessed = reshape(Pre_X_train)\n",
        "print(\"preprocessed X_train shape:\", X_train_preprocessed.shape)\n",
        "\n",
        "Pre_X_valid = preprocess(X_valid)\n",
        "X_valid_preprocessed = reshape(Pre_X_valid)\n",
        "print(\"preprocessed X_valid shape:\", X_valid_preprocessed.shape)\n",
        "\n",
        "Pre_X_test = preprocess(X_test)\n",
        "X_test_preprocessed = reshape(Pre_X_test)\n",
        "print(\"preprocessed X_test shape:\", X_test_preprocessed.shape)"
      ],
      "execution_count": 0,
      "outputs": [
        {
          "output_type": "stream",
          "text": [
            "Processing....\n",
            "preprocessed X_train shape: (34799, 32, 32, 1)\n",
            "preprocessed X_valid shape: (4410, 32, 32, 1)\n",
            "preprocessed X_test shape: (12630, 32, 32, 1)\n"
          ],
          "name": "stdout"
        }
      ]
    },
    {
      "metadata": {
        "id": "VA5ClylJIsvD",
        "colab_type": "code",
        "colab": {}
      },
      "cell_type": "code",
      "source": [
        "# Preprocessed images are saved in pickle file to save time\n",
        "\n",
        "pickle.dump(X_train_preprocessed, open('training_preprocessed_file.p', \"wb\" ))\n",
        "pickle.dump(X_valid_preprocessed, open('validation_preprocessed_file.p', \"wb\" ))\n",
        "pickle.dump(X_test_preprocessed, open('testing_preprocessed_file.p', \"wb\" ))"
      ],
      "execution_count": 0,
      "outputs": []
    },
    {
      "metadata": {
        "id": "jZjwQcgTKuL5",
        "colab_type": "code",
        "colab": {}
      },
      "cell_type": "code",
      "source": [
        "with open(\"training_preprocessed_file.p\", mode='rb') as f:\n",
        "    X_train_preprocessed = pickle.load(f)\n",
        "with open(\"validation_preprocessed_file.p\", mode='rb') as f:\n",
        "    X_valid_preprocessed = pickle.load(f)\n",
        "with open(\"testing_preprocessed_file.p\", mode='rb') as f:\n",
        "    X_test_preprocessed = pickle.load(f)"
      ],
      "execution_count": 0,
      "outputs": []
    },
    {
      "metadata": {
        "id": "TElJvFH5Kxkf",
        "colab_type": "text"
      },
      "cell_type": "markdown",
      "source": [
        "## Model Architecture"
      ]
    },
    {
      "metadata": {
        "id": "rD5BMGC3Kzax",
        "colab_type": "code",
        "colab": {}
      },
      "cell_type": "code",
      "source": [
        "### Define your architecture here.\n",
        "### Feel free to use as many code cells as needed.\n",
        "#mu = 0\n",
        "#sigma = 0.1\n",
        "    \n",
        "# SOLUTION: Layer 1: Convolutional. Input = 32x32x1. Output = 28x28x6.\n",
        "#conv1_W = tf.Variable(tf.truncated_normal(shape=(5, 5, 1, 60), mean = mu, stddev = sigma))\n",
        "#conv1_b = tf.Variable(tf.zeros(60))\n",
        "#conv1   = tf.nn.conv2d(x, conv1_W, strides=[1, 1, 1, 1], padding='VALID') + conv1_b\n",
        "\n",
        "weights={\n",
        "    'wc1': tf.Variable(tf.truncated_normal(shape=(5, 5, 1, 64), mean = 0, stddev = 0.1)),\n",
        "    'wc2': tf.Variable(tf.truncated_normal(shape=(5, 5, 64, 32), mean = 0, stddev = 0.1)),\n",
        "    'wd1':tf.Variable(tf.truncated_normal(shape=(8*8*32, 256), mean = 0, stddev = 0.1)),\n",
        "    'Wout': tf.Variable(tf.truncated_normal(shape=(256, 43), mean = 0, stddev = 0.1))\n",
        "}\n",
        "\n",
        "biases = {\n",
        "    'bc1': tf.Variable(tf.zeros([64])),\n",
        "    'bc2': tf.Variable(tf.zeros([32])),\n",
        "    'bd1': tf.Variable(tf.zeros([256])),\n",
        "    'bout': tf.Variable(tf.zeros([43]))\n",
        "}"
      ],
      "execution_count": 0,
      "outputs": []
    },
    {
      "metadata": {
        "id": "5TYHqIHCK7Ws",
        "colab_type": "code",
        "colab": {}
      },
      "cell_type": "code",
      "source": [
        "\n",
        "from tensorflow.contrib.layers import flatten\n",
        "\n",
        "def conv2d(x, weights, biases):\n",
        "    conv = tf.nn.conv2d(x, weights, strides = [1, 1, 1, 1], padding = 'SAME')\n",
        "    conv = tf.nn.bias_add(conv, biases)\n",
        "    conv=tf.nn.relu(conv)\n",
        "    conv=tf.nn.max_pool(conv,ksize=[1,2,2,1],strides=[1,2,2,1],padding = 'SAME')\n",
        "    return conv\n",
        "\n",
        "#def leaky_relu(X):\n",
        "   # return tf.maximum(0.01*X,X)\n",
        "def conv_net (X, weights, biases,keep_prob):\n",
        "    \n",
        "    conv1=conv2d(X,weights['wc1'],biases['bc1']) \n",
        "    \n",
        "    conv2=conv2d(conv1,weights['wc2'],biases['bc2'])\n",
        "    \n",
        "    \n",
        "    fc1=flatten(conv2)\n",
        "    #fc1=tf.reshape(conv2,[-1,weights['wd1'].get_shape().as_list()[0]])\n",
        "    fc1=tf.add(tf.matmul(fc1, weights['wd1']), biases['bd1'])\n",
        "    fc1=tf.nn.relu(fc1)\n",
        "    fc1=tf.nn.dropout(fc1, keep_prob)\n",
        "    \n",
        "    out=tf.add(tf.matmul(fc1, weights['Wout']), biases['bout'])\n",
        "    out=tf.nn.dropout(out, keep_prob)\n",
        "    return out\n",
        "\n"
      ],
      "execution_count": 0,
      "outputs": []
    },
    {
      "metadata": {
        "id": "rDyTQXENK_An",
        "colab_type": "text"
      },
      "cell_type": "markdown",
      "source": [
        "### Train, Validate and Test the Model\n",
        "A validation set can be used to assess how well the model is performing. A low accuracy on the training and validation\n",
        "sets imply underfitting. A high accuracy on the training set but low accuracy on the validation set implies overfitting."
      ]
    },
    {
      "metadata": {
        "id": "mq00hofdLsJu",
        "colab_type": "code",
        "outputId": "693ab29a-cc96-4717-ee78-5f3d62220c40",
        "colab": {
          "base_uri": "https://localhost:8080/",
          "height": 173
        }
      },
      "cell_type": "code",
      "source": [
        "### Train your model here.\n",
        "### Calculate and report the accuracy on the training and validation set.\n",
        "### Once a final model architecture is selected, \n",
        "### the accuracy on the test set should be calculated and reported as well.\n",
        "### Feel free to use as many code cells as needed.\n",
        "rate = 0.0005\n",
        "EPOCHS = 75     \n",
        "BATCH_SIZE = 256\n",
        "n_classes=43\n",
        "num_Xtrain = 34799 #len(X_train_preprocessed)\n",
        "\n",
        "x = tf.placeholder(tf.float32, (None, 32, 32, 1))\n",
        "y = tf.placeholder(tf.int32, (None))\n",
        "one_hot_y = tf.one_hot(y, n_classes)\n",
        "keep_prob = tf.placeholder(tf.float32)\n",
        "\n",
        "logits = conv_net(x,weights,biases,keep_prob)\n",
        "\n",
        "cross_entropy = tf.nn.softmax_cross_entropy_with_logits(labels=one_hot_y, logits=logits)\n",
        "loss_operation = tf.reduce_mean(cross_entropy)\n",
        "optimizer = tf.train.AdamOptimizer(learning_rate = rate)\n",
        "training_operation = optimizer.minimize(loss_operation)\n",
        "\n",
        "correct_prediction = tf.equal(tf.argmax(logits, 1), tf.argmax(one_hot_y, 1))\n",
        "accuracy_operation = tf.reduce_mean(tf.cast(correct_prediction, tf.float32))\n",
        "\n",
        "saver = tf.train.Saver()"
      ],
      "execution_count": 0,
      "outputs": [
        {
          "output_type": "stream",
          "text": [
            "WARNING:tensorflow:From <ipython-input-25-8e0d774cca12>:14: softmax_cross_entropy_with_logits (from tensorflow.python.ops.nn_ops) is deprecated and will be removed in a future version.\n",
            "Instructions for updating:\n",
            "\n",
            "Future major versions of TensorFlow will allow gradients to flow\n",
            "into the labels input on backprop by default.\n",
            "\n",
            "See `tf.nn.softmax_cross_entropy_with_logits_v2`.\n",
            "\n"
          ],
          "name": "stdout"
        }
      ]
    },
    {
      "metadata": {
        "id": "sHzD3IeILC8E",
        "colab_type": "code",
        "colab": {}
      },
      "cell_type": "code",
      "source": [
        "def evaluate(X_data, y_data):\n",
        "    \n",
        "    total_accuracy = 0\n",
        "    num_Xtrain = len(X_data)\n",
        "    sess = tf.get_default_session()\n",
        "    \n",
        "    for offset in range(0, num_Xtrain, BATCH_SIZE):  \n",
        "        batch_x, batch_y = X_data[offset:offset + BATCH_SIZE], y_data[offset:offset + BATCH_SIZE]\n",
        "        accuracy = sess.run(accuracy_operation, feed_dict= {x: batch_x, y: batch_y, keep_prob: 1.0})\n",
        "        total_accuracy += (accuracy * len(batch_x))\n",
        "    \n",
        "    return total_accuracy / num_Xtrain"
      ],
      "execution_count": 0,
      "outputs": []
    },
    {
      "metadata": {
        "id": "rlxgQ5NJLMnq",
        "colab_type": "code",
        "outputId": "129ad988-ccc0-41d2-cf68-f021ba60b692",
        "colab": {
          "base_uri": "https://localhost:8080/",
          "height": 2601
        }
      },
      "cell_type": "code",
      "source": [
        "with tf.Session() as sess:\n",
        "    \n",
        "    sess.run(tf.global_variables_initializer())\n",
        "    print (\"Training......\")\n",
        "    for epoch in range(EPOCHS):\n",
        "        \n",
        "        X_data, y_data = shuffle(X_train_preprocessed, y_train)\n",
        "        \n",
        "        for offset in range(0, num_Xtrain, BATCH_SIZE):\n",
        "            #end = start + BATCH_SIZE\n",
        "            batch_x, batch_y = X_data[offset:offset + BATCH_SIZE], y_data[offset:offset + BATCH_SIZE]\n",
        "            \n",
        "            _, loss = sess.run([training_operation, loss_operation], feed_dict = {x: batch_x, y: batch_y, keep_prob: 0.75})\n",
        "            \n",
        "        validation_accuracy = evaluate(X_valid_preprocessed, y_valid)\n",
        "        \n",
        "        print(\"EPOCH {} ...\".format(epoch+1))\n",
        "        print(\"Validation Acc = {:.3f}\".format(validation_accuracy))\n",
        "        \n",
        "    saver.save(sess, './model')\n",
        "    print(\"Model saved\")"
      ],
      "execution_count": 0,
      "outputs": [
        {
          "output_type": "stream",
          "text": [
            "Training......\n",
            "EPOCH 1 ...\n",
            "Validation Acc = 0.576\n",
            "EPOCH 2 ...\n",
            "Validation Acc = 0.790\n",
            "EPOCH 3 ...\n",
            "Validation Acc = 0.848\n",
            "EPOCH 4 ...\n",
            "Validation Acc = 0.887\n",
            "EPOCH 5 ...\n",
            "Validation Acc = 0.913\n",
            "EPOCH 6 ...\n",
            "Validation Acc = 0.916\n",
            "EPOCH 7 ...\n",
            "Validation Acc = 0.935\n",
            "EPOCH 8 ...\n",
            "Validation Acc = 0.939\n",
            "EPOCH 9 ...\n",
            "Validation Acc = 0.945\n",
            "EPOCH 10 ...\n",
            "Validation Acc = 0.946\n",
            "EPOCH 11 ...\n",
            "Validation Acc = 0.952\n",
            "EPOCH 12 ...\n",
            "Validation Acc = 0.956\n",
            "EPOCH 13 ...\n",
            "Validation Acc = 0.951\n",
            "EPOCH 14 ...\n",
            "Validation Acc = 0.955\n",
            "EPOCH 15 ...\n",
            "Validation Acc = 0.956\n",
            "EPOCH 16 ...\n",
            "Validation Acc = 0.958\n",
            "EPOCH 17 ...\n",
            "Validation Acc = 0.954\n",
            "EPOCH 18 ...\n",
            "Validation Acc = 0.958\n",
            "EPOCH 19 ...\n",
            "Validation Acc = 0.959\n",
            "EPOCH 20 ...\n",
            "Validation Acc = 0.961\n",
            "EPOCH 21 ...\n",
            "Validation Acc = 0.961\n",
            "EPOCH 22 ...\n",
            "Validation Acc = 0.961\n",
            "EPOCH 23 ...\n",
            "Validation Acc = 0.963\n",
            "EPOCH 24 ...\n",
            "Validation Acc = 0.965\n",
            "EPOCH 25 ...\n",
            "Validation Acc = 0.962\n",
            "EPOCH 26 ...\n",
            "Validation Acc = 0.963\n",
            "EPOCH 27 ...\n",
            "Validation Acc = 0.967\n",
            "EPOCH 28 ...\n",
            "Validation Acc = 0.961\n",
            "EPOCH 29 ...\n",
            "Validation Acc = 0.963\n",
            "EPOCH 30 ...\n",
            "Validation Acc = 0.960\n",
            "EPOCH 31 ...\n",
            "Validation Acc = 0.967\n",
            "EPOCH 32 ...\n",
            "Validation Acc = 0.966\n",
            "EPOCH 33 ...\n",
            "Validation Acc = 0.966\n",
            "EPOCH 34 ...\n",
            "Validation Acc = 0.969\n",
            "EPOCH 35 ...\n",
            "Validation Acc = 0.966\n",
            "EPOCH 36 ...\n",
            "Validation Acc = 0.969\n",
            "EPOCH 37 ...\n",
            "Validation Acc = 0.966\n",
            "EPOCH 38 ...\n",
            "Validation Acc = 0.970\n",
            "EPOCH 39 ...\n",
            "Validation Acc = 0.966\n",
            "EPOCH 40 ...\n",
            "Validation Acc = 0.972\n",
            "EPOCH 41 ...\n",
            "Validation Acc = 0.971\n",
            "EPOCH 42 ...\n",
            "Validation Acc = 0.967\n",
            "EPOCH 43 ...\n",
            "Validation Acc = 0.971\n",
            "EPOCH 44 ...\n",
            "Validation Acc = 0.971\n",
            "EPOCH 45 ...\n",
            "Validation Acc = 0.969\n",
            "EPOCH 46 ...\n",
            "Validation Acc = 0.967\n",
            "EPOCH 47 ...\n",
            "Validation Acc = 0.967\n",
            "EPOCH 48 ...\n",
            "Validation Acc = 0.965\n",
            "EPOCH 49 ...\n",
            "Validation Acc = 0.969\n",
            "EPOCH 50 ...\n",
            "Validation Acc = 0.972\n",
            "EPOCH 51 ...\n",
            "Validation Acc = 0.967\n",
            "EPOCH 52 ...\n",
            "Validation Acc = 0.970\n",
            "EPOCH 53 ...\n",
            "Validation Acc = 0.968\n",
            "EPOCH 54 ...\n",
            "Validation Acc = 0.967\n",
            "EPOCH 55 ...\n",
            "Validation Acc = 0.971\n",
            "EPOCH 56 ...\n",
            "Validation Acc = 0.972\n",
            "EPOCH 57 ...\n",
            "Validation Acc = 0.972\n",
            "EPOCH 58 ...\n",
            "Validation Acc = 0.973\n",
            "EPOCH 59 ...\n",
            "Validation Acc = 0.972\n",
            "EPOCH 60 ...\n",
            "Validation Acc = 0.971\n",
            "EPOCH 61 ...\n",
            "Validation Acc = 0.967\n",
            "EPOCH 62 ...\n",
            "Validation Acc = 0.971\n",
            "EPOCH 63 ...\n",
            "Validation Acc = 0.973\n",
            "EPOCH 64 ...\n",
            "Validation Acc = 0.973\n",
            "EPOCH 65 ...\n",
            "Validation Acc = 0.971\n",
            "EPOCH 66 ...\n",
            "Validation Acc = 0.973\n",
            "EPOCH 67 ...\n",
            "Validation Acc = 0.966\n",
            "EPOCH 68 ...\n",
            "Validation Acc = 0.973\n",
            "EPOCH 69 ...\n",
            "Validation Acc = 0.970\n",
            "EPOCH 70 ...\n",
            "Validation Acc = 0.968\n",
            "EPOCH 71 ...\n",
            "Validation Acc = 0.971\n",
            "EPOCH 72 ...\n",
            "Validation Acc = 0.970\n",
            "EPOCH 73 ...\n",
            "Validation Acc = 0.969\n",
            "EPOCH 74 ...\n",
            "Validation Acc = 0.975\n",
            "EPOCH 75 ...\n",
            "Validation Acc = 0.973\n",
            "Model saved\n"
          ],
          "name": "stdout"
        }
      ]
    },
    {
      "metadata": {
        "id": "UmFDralJLVhv",
        "colab_type": "code",
        "outputId": "e656b051-a3d2-43bb-a5d1-806af06e7ea1",
        "colab": {
          "base_uri": "https://localhost:8080/",
          "height": 51
        }
      },
      "cell_type": "code",
      "source": [
        "with tf.Session() as sess:\n",
        "    saver.restore(sess, tf.train.latest_checkpoint('.'))\n",
        "\n",
        "    test_accuracy = evaluate(X_test_preprocessed, y_test)\n",
        "    print(\"Test Accuracy = {:.3f}\".format(test_accuracy))"
      ],
      "execution_count": 0,
      "outputs": [
        {
          "output_type": "stream",
          "text": [
            "INFO:tensorflow:Restoring parameters from ./model\n",
            "Test Accuracy = 0.963\n"
          ],
          "name": "stdout"
        }
      ]
    },
    {
      "metadata": {
        "id": "aDlg0c80MtSm",
        "colab_type": "code",
        "colab": {}
      },
      "cell_type": "code",
      "source": [
        ""
      ],
      "execution_count": 0,
      "outputs": []
    }
  ]
}